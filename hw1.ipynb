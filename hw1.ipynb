{
 "cells": [
  {
   "cell_type": "markdown",
   "metadata": {},
   "source": [
    "### ДЗ1  \n",
    "### Выполнил: _Сидоров Иван_  \n",
    "### Задание:  \n",
    "* Доработайте функцию generate, чтобы она работала на триграммах, а не биграммах. То есть подбирала следующее слово текста на основе двух предыдущих, а не одного.\n",
    "* Напишите функцию, которая подбирает рифмы к слову на основе cmudict"
   ]
  },
  {
   "cell_type": "code",
   "execution_count": null,
   "metadata": {},
   "outputs": [],
   "source": [
    "%pip install nltk numpy"
   ]
  },
  {
   "cell_type": "code",
   "execution_count": 1,
   "metadata": {},
   "outputs": [
    {
     "name": "stderr",
     "output_type": "stream",
     "text": [
      "[nltk_data] Downloading package punkt to /Users/ivsidorov/nltk_data...\n",
      "[nltk_data]   Package punkt is already up-to-date!\n"
     ]
    }
   ],
   "source": [
    "import nltk\n",
    "import random\n",
    "import urllib\n",
    "\n",
    "\n",
    "nltk.download('punkt')\n",
    "url = 'https://www.gutenberg.org/cache/epub/72839/pg72839.txt'\n",
    "request = urllib.request.urlopen(url)\n",
    "text = request.read().decode('utf-8')\n",
    "text = nltk.Text(nltk.tokenize.word_tokenize(text))"
   ]
  },
  {
   "cell_type": "markdown",
   "metadata": {},
   "source": [
    "### Задание 1"
   ]
  },
  {
   "cell_type": "code",
   "execution_count": 33,
   "metadata": {},
   "outputs": [],
   "source": [
    "cfd = nltk.ConditionalFreqDist(nltk.bigrams(text))"
   ]
  },
  {
   "cell_type": "code",
   "execution_count": 101,
   "metadata": {},
   "outputs": [],
   "source": [
    "def generate(first_word: str, cfd: nltk.ConditionalFreqDist, word_count: int = 10) -> str:\n",
    "    words = [first_word]\n",
    "    current_word = first_word\n",
    "    for _ in range(word_count - 1):\n",
    "        probs = cfd[current_word]\n",
    "        if probs.keys():\n",
    "            next_word = random.choices(list(probs.keys()), weights=probs.values())[0]\n",
    "            words.append(next_word)\n",
    "            current_word = next_word\n",
    "        else:\n",
    "            break\n",
    "    return \" \".join(words)"
   ]
  },
  {
   "cell_type": "code",
   "execution_count": 95,
   "metadata": {},
   "outputs": [
    {
     "data": {
      "text/plain": [
       "'never stopped till we to honour , and the United'"
      ]
     },
     "execution_count": 95,
     "metadata": {},
     "output_type": "execute_result"
    }
   ],
   "source": [
    "generate(\"never\", cfd, 10)"
   ]
  },
  {
   "cell_type": "markdown",
   "metadata": {},
   "source": [
    "Составим пары на основе триграмм. Первый элемент в паре – кортеж из первых двух слов триграммы, второй элемент – слово, которое стоит на третьем месте триграммы."
   ]
  },
  {
   "cell_type": "code",
   "execution_count": null,
   "metadata": {},
   "outputs": [],
   "source": [
    "trigrams = nltk.trigrams(text)\n",
    "trigrams_pairs = (((w0, w1), w2) for w0, w1, w2 in trigrams)\n",
    "cfd_trigrams = nltk.ConditionalFreqDist(trigrams_pairs)"
   ]
  },
  {
   "cell_type": "code",
   "execution_count": 103,
   "metadata": {},
   "outputs": [],
   "source": [
    "def _generate(first_word: str, cfd: nltk.ConditionalFreqDist) -> str:\n",
    "    probs = cfd[first_word]\n",
    "    if not probs.keys():\n",
    "        return\n",
    "    next_word = random.choices(list(probs.keys()), weights=probs.values())[0]\n",
    "    return next_word\n",
    "\n",
    "\n",
    "def improved_generate(\n",
    "    first_word: str,\n",
    "    cfd_bigrams: nltk.ConditionalFreqDist,\n",
    "    cfd_trigrams: nltk.ConditionalFreqDist,\n",
    "    word_count: int = 10,\n",
    ") -> str:\n",
    "    words = [first_word]\n",
    "    second_word = _generate(first_word, cfd_bigrams)\n",
    "    if second_word is None:\n",
    "        return words\n",
    "    words.append(second_word)\n",
    "    pair = (first_word, second_word)\n",
    "    current_word = second_word\n",
    "    for _ in range(word_count - 1):\n",
    "        probs = cfd_trigrams[pair]\n",
    "        if not probs.keys():\n",
    "            break\n",
    "        next_word = random.choices(list(probs.keys()), weights=probs.values())[0]\n",
    "        words.append(next_word)\n",
    "        pair = (current_word, next_word)\n",
    "        current_word = next_word\n",
    "\n",
    "    return \" \".join(words)"
   ]
  },
  {
   "cell_type": "code",
   "execution_count": 98,
   "metadata": {},
   "outputs": [
    {
     "data": {
      "text/plain": [
       "'never forget being called to King David in his great captain'"
      ]
     },
     "execution_count": 98,
     "metadata": {},
     "output_type": "execute_result"
    }
   ],
   "source": [
    "improved_generate(\"never\", cfd, cfd_trigrams, 10)"
   ]
  },
  {
   "cell_type": "markdown",
   "metadata": {},
   "source": [
    "На триграммах текст и правда выглядит осознаннее, хотя до идеала все еще далеко."
   ]
  },
  {
   "cell_type": "markdown",
   "metadata": {},
   "source": [
    "### Задание 2"
   ]
  },
  {
   "cell_type": "code",
   "execution_count": 49,
   "metadata": {},
   "outputs": [
    {
     "name": "stderr",
     "output_type": "stream",
     "text": [
      "[nltk_data] Downloading package cmudict to\n",
      "[nltk_data]     /Users/ivsidorov/nltk_data...\n",
      "[nltk_data]   Package cmudict is already up-to-date!\n"
     ]
    }
   ],
   "source": [
    "nltk.download('cmudict')\n",
    "url = 'https://www.gutenberg.org/cache/epub/72839/pg72839.txt'\n",
    "request = urllib.request.urlopen(url)\n",
    "text = request.read().decode('utf-8')"
   ]
  },
  {
   "cell_type": "code",
   "execution_count": 50,
   "metadata": {},
   "outputs": [],
   "source": [
    "from nltk.corpus import cmudict\n",
    "\n",
    "\n",
    "phon_dict = cmudict.dict()"
   ]
  },
  {
   "cell_type": "markdown",
   "metadata": {},
   "source": [
    "Попробуем удовлетворить минимальные требования - чтобы последние две фонемы совпадали, а также количество слогов было одинаковым:"
   ]
  },
  {
   "cell_type": "code",
   "execution_count": 84,
   "metadata": {},
   "outputs": [],
   "source": [
    "from typing import Dict, List\n",
    "\n",
    "\n",
    "def _num_syllables(word: str, phon_dict: Dict[str, List]) -> int:\n",
    "    return [\n",
    "        len(list(y for y in x if y[-1].isdigit())) for x in phon_dict[word.lower()]\n",
    "    ][0]\n",
    "\n",
    "\n",
    "def find_rhymes(word: str, phon_dict: Dict[str, List]) -> List:\n",
    "    word = word.lower().strip()\n",
    "    try:\n",
    "        word_transcription = phon_dict[word][0]\n",
    "    except KeyError:\n",
    "        return \"Sorry, I don't know that word:(\"\n",
    "    if len(word_transcription) > 1:\n",
    "        word_ending = (word_transcription[-1], word_transcription[-2])\n",
    "    else:\n",
    "        word_ending = word_transcription[-1]\n",
    "    word_num_syll = _num_syllables(word, phon_dict)\n",
    "\n",
    "    rhymes = []\n",
    "    for key, transcriptions in phon_dict.items():\n",
    "        for transcription in transcriptions:\n",
    "            try:\n",
    "                if len(transcription) > 1:\n",
    "                    ending = (transcription[-1], transcription[-2])\n",
    "                else:\n",
    "                    ending = transcription[-1]\n",
    "\n",
    "                if (ending == word_ending) and (\n",
    "                    _num_syllables(key, phon_dict) == word_num_syll\n",
    "                ):\n",
    "                    rhymes.append(key)\n",
    "            except IndexError:\n",
    "                continue\n",
    "    return rhymes"
   ]
  },
  {
   "cell_type": "code",
   "execution_count": 98,
   "metadata": {},
   "outputs": [
    {
     "data": {
      "text/plain": [
       "['dove', 'glove', 'gov', 'love', 'of', 'shove']"
      ]
     },
     "execution_count": 98,
     "metadata": {},
     "output_type": "execute_result"
    }
   ],
   "source": [
    "find_rhymes(\"love\", phon_dict=phon_dict)"
   ]
  }
 ],
 "metadata": {
  "kernelspec": {
   "display_name": ".venv",
   "language": "python",
   "name": "python3"
  },
  "language_info": {
   "codemirror_mode": {
    "name": "ipython",
    "version": 3
   },
   "file_extension": ".py",
   "mimetype": "text/x-python",
   "name": "python",
   "nbconvert_exporter": "python",
   "pygments_lexer": "ipython3",
   "version": "3.9.6"
  }
 },
 "nbformat": 4,
 "nbformat_minor": 2
}
