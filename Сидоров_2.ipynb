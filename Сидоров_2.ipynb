{
 "cells": [
  {
   "cell_type": "markdown",
   "metadata": {},
   "source": [
    "### ДЗ2  \n",
    "### Выполнил: _Сидоров Иван_  \n",
    "### Задание:  \n",
    "* Сделать полноценные модели для биграмм и триграмм, которые могут оценивать вероятность текста.\n",
    "* Посчитать perplexity нового текста для обоих моделей. Необходимо учесть случаи незнакомых слов и N-грамм."
   ]
  },
  {
   "cell_type": "code",
   "execution_count": 1,
   "metadata": {},
   "outputs": [
    {
     "name": "stderr",
     "output_type": "stream",
     "text": [
      "[nltk_data] Downloading package reuters to\n",
      "[nltk_data]     /Users/ivsidorov/nltk_data...\n",
      "[nltk_data]   Package reuters is already up-to-date!\n",
      "[nltk_data] Downloading package punkt to /Users/ivsidorov/nltk_data...\n",
      "[nltk_data]   Package punkt is already up-to-date!\n"
     ]
    },
    {
     "data": {
      "text/plain": [
       "True"
      ]
     },
     "execution_count": 1,
     "metadata": {},
     "output_type": "execute_result"
    }
   ],
   "source": [
    "import nltk\n",
    "from nltk.corpus import reuters\n",
    "from nltk.lm.preprocessing import pad_both_ends\n",
    "from itertools import product\n",
    "import math\n",
    "\n",
    "nltk.download(\"reuters\")\n",
    "nltk.download(\"punkt\")"
   ]
  },
  {
   "cell_type": "code",
   "execution_count": 2,
   "metadata": {},
   "outputs": [],
   "source": [
    "class PLM(object):\n",
    "    def __init__(self, train_data, n):\n",
    "        self.n = n\n",
    "        self.tokens = self._preprocess_corpus(train_data, n)\n",
    "        self.vocab = nltk.FreqDist(self.tokens)\n",
    "        self.model = {}\n",
    "        # всевозможные вариации замены токенов в n-грамме на <UNK>\n",
    "        self.masks = list(product((1, 0), repeat=self.n))\n",
    "\n",
    "    def fit(self):\n",
    "        n_grams = nltk.ngrams(self.tokens, self.n)\n",
    "        vocab = nltk.FreqDist(n_grams)\n",
    "\n",
    "        prev_grams = nltk.ngrams(self.tokens, self.n - 1)\n",
    "        prev_vocab = nltk.FreqDist(prev_grams)\n",
    "\n",
    "        for n_gram, count in vocab.items():\n",
    "            # Add-1 estimate\n",
    "            self.model[n_gram] = (count + 1) / (\n",
    "                prev_vocab[n_gram[:-1]] + len(self.vocab)\n",
    "            )\n",
    "\n",
    "        return self\n",
    "\n",
    "    @staticmethod\n",
    "    def _pad_sentences(sentences, n):\n",
    "        padded_sentences = []\n",
    "        for sent in sentences:\n",
    "            padded_sent = \" \".join(pad_both_ends(sent.split(\" \"), n=n))\n",
    "            padded_sentences.append(padded_sent)\n",
    "        return padded_sentences\n",
    "\n",
    "    @staticmethod\n",
    "    def _replace_unknown(tokens):\n",
    "        vocab = nltk.FreqDist(tokens)\n",
    "        return [token if vocab[token] > 1 else \"<UNK>\" for token in tokens]\n",
    "\n",
    "    @staticmethod\n",
    "    def _preprocess_corpus(sentences, n, train=True):\n",
    "        sentences = PLM._pad_sentences(sentences, n)\n",
    "        sentence_tokens = ' '.join(sentences)\n",
    "        tokens = sentence_tokens.split(' ')\n",
    "        if train:\n",
    "            tokens = PLM._replace_unknown(tokens)\n",
    "        return tokens\n",
    "\n",
    "    @staticmethod\n",
    "    def _mask_unknown(ngram, mask):\n",
    "        masked_ngram = []\n",
    "        for token, flag in zip(ngram, mask):\n",
    "            if flag == 1:\n",
    "                masked_ngram.append(token)\n",
    "            else:\n",
    "                masked_ngram.append(\"<UNK>\")\n",
    "\n",
    "        return tuple(masked_ngram)\n",
    "\n",
    "    def _find_oov(self, ngram):\n",
    "        for mask in self.masks:\n",
    "            masked_ngram = self._mask_unknown(ngram, mask)\n",
    "            if masked_ngram in self.model:\n",
    "                return masked_ngram\n",
    "\n",
    "        raise ValueError(\"The n-gram is out of vocabulary.\")\n",
    "\n",
    "    def perplexity(self, test_data):\n",
    "        test_tokens = self._preprocess_corpus(test_data, self.n, train=False)\n",
    "        test_ngrams = nltk.ngrams(test_tokens, self.n)\n",
    "        N = len(test_tokens)\n",
    "        test_ngrams = (self._find_oov(ngram) for ngram in test_ngrams)\n",
    "        probs = [self.model[ngram] for ngram in test_ngrams]\n",
    "\n",
    "        return math.exp((-1 / N) * sum(map(math.log, probs)))"
   ]
  },
  {
   "cell_type": "code",
   "execution_count": 3,
   "metadata": {},
   "outputs": [],
   "source": [
    "data = []\n",
    "for tokenized_sentence in reuters.sents():\n",
    "    data.append(\" \".join(tokenized_sentence))"
   ]
  },
  {
   "cell_type": "markdown",
   "metadata": {},
   "source": [
    "Биграммы:"
   ]
  },
  {
   "cell_type": "code",
   "execution_count": 11,
   "metadata": {},
   "outputs": [
    {
     "name": "stdout",
     "output_type": "stream",
     "text": [
      "Correct sentence perplexity:  306.7723993055946\n",
      "Incorrect sentence perplexity:  351.6277015176996\n"
     ]
    }
   ],
   "source": [
    "model = PLM(data, 2)\n",
    "model.fit()\n",
    "\n",
    "print(\n",
    "    \"Correct sentence perplexity: \",\n",
    "    model.perplexity([\"SpaceX has launched a new rocket\"]),\n",
    ")\n",
    "print(\n",
    "    \"Incorrect sentence perplexity: \", model.perplexity([\"SpaceX has opened a new restaurant\"])\n",
    ")"
   ]
  },
  {
   "cell_type": "markdown",
   "metadata": {},
   "source": [
    "Триграммы:"
   ]
  },
  {
   "cell_type": "code",
   "execution_count": 12,
   "metadata": {},
   "outputs": [
    {
     "name": "stdout",
     "output_type": "stream",
     "text": [
      "Correct sentence perplexity:  696.1575093777993\n",
      "Incorrect sentence perplexity:  746.0573455241924\n"
     ]
    }
   ],
   "source": [
    "model = PLM(data, 3)\n",
    "model.fit()\n",
    "\n",
    "print(\n",
    "    \"Correct sentence perplexity: \",\n",
    "    model.perplexity([\"SpaceX has launched a new rocket\"]),\n",
    ")\n",
    "print(\n",
    "    \"Incorrect sentence perplexity: \", model.perplexity([\"SpaceX has opened a new restaurant\"])\n",
    ")"
   ]
  },
  {
   "cell_type": "markdown",
   "metadata": {},
   "source": [
    "На триграммах перплексия повыше. Думаю, это происходит из-за небольшого объема обучающего корпуса."
   ]
  }
 ],
 "metadata": {
  "kernelspec": {
   "display_name": ".venv",
   "language": "python",
   "name": "python3"
  },
  "language_info": {
   "codemirror_mode": {
    "name": "ipython",
    "version": 3
   },
   "file_extension": ".py",
   "mimetype": "text/x-python",
   "name": "python",
   "nbconvert_exporter": "python",
   "pygments_lexer": "ipython3",
   "version": "3.9.6"
  }
 },
 "nbformat": 4,
 "nbformat_minor": 2
}
